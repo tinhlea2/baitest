{
  "cells": [
    {
      "cell_type": "code",
      "execution_count": 1,
      "metadata": {
        "id": "kdfToAaNDM8s"
      },
      "outputs": [],
      "source": [
        "import numpy as np"
      ]
    },
    {
      "cell_type": "code",
      "execution_count": 2,
      "metadata": {
        "id": "k9krXeMHHxxE"
      },
      "outputs": [],
      "source": [
        "def sigmoid(z):\n",
        "  return 1 / (1 + np.exp(-z))"
      ]
    },
    {
      "cell_type": "code",
      "execution_count": 3,
      "metadata": {
        "id": "LqxfvPrBDoyD"
      },
      "outputs": [],
      "source": [
        "def logistic_sigmoid_regression(X, y, alpha, tol = 1e-4, loop = 10000):\n",
        "    # w = [w_init]\n",
        "    N = X.shape[1]\n",
        "    d = X.shape[0]\n",
        "    print(d)\n",
        "    w = [np.random.rand(d, 1)]\n",
        "    print(w[0])\n",
        "    count = 0\n",
        "    check_w = 20\n",
        "    while count < loop:\n",
        "        # mix data\n",
        "        mix_id = np.random.permutation(N)\n",
        "        for i in mix_id:\n",
        "            xi = X[:, i].reshape(d, 1)\n",
        "            yi = y[i]\n",
        "            zi = sigmoid(np.dot(w[-1].T, xi))\n",
        "            w_new = w[-1] + alpha*(yi - zi)*xi\n",
        "            count += 1\n",
        "            # stopping criteria\n",
        "            if count%check_w == 0:\n",
        "                if np.linalg.norm(w_new - w[-check_w]) < tol:\n",
        "                    return w\n",
        "            w.append(w_new)\n",
        "    return w"
      ]
    },
    {
      "cell_type": "markdown",
      "metadata": {
        "id": "dHgvZqZmIfhK"
      },
      "source": [
        "#Bai tap 2"
      ]
    },
    {
      "cell_type": "code",
      "execution_count": 4,
      "metadata": {
        "id": "0TGHd0YyIjS0"
      },
      "outputs": [],
      "source": [
        "# Iris setosa = 0; Iris virginica = 1\n",
        "X = np.array([[5.1, 3.5, 1.4, 0.2],\n",
        " [4.9, 3, 1.4, 0.2],\n",
        " [4.7, 3.2, 1.3, 0.2],\n",
        " [4.6, 3.1, 1.5, 0.2],\n",
        " [5, 3.6, 1.4, 0.2],\n",
        " [5.4, 3.9, 1.7, 0.4],\n",
        " [4.6, 3.4, 1.4, 0.3],\n",
        " [5, 3.4, 1.5, 0.2],\n",
        " [4.4, 2.9, 1.4, 0.2],\n",
        " [4.9, 3.1, 1.5, 0.1],\n",
        " [6.3, 3.3, 6, 2.5],\n",
        " [5.8, 2.7, 5.1, 1.9],\n",
        " [7.1, 3, 5.9, 2.1],\n",
        " [6.3, 2.9, 5.6, 1.8],\n",
        " [6.5, 3, 5.8, 2.2],\n",
        " [7.6, 3, 6.6, 2.1],\n",
        " [4.9, 2.5, 4.5, 1.7],\n",
        " [7.3, 2.9, 6.3, 1.8],\n",
        " [6.7, 2.5, 5.8, 1.8],\n",
        " [7.2, 3.6, 6.1, 2.5]])\n",
        "\n",
        "y = np.array([0, 0, 0, 0, 0, 0, 0, 0, 0, 0, 1, 1, 1, 1, 1, 1, 1, 1, 1, 1])"
      ]
    },
    {
      "cell_type": "code",
      "execution_count": 5,
      "metadata": {
        "colab": {
          "base_uri": "https://localhost:8080/"
        },
        "id": "DjK6zIkZIKua",
        "outputId": "489636d9-6b7a-4abf-f531-806fb4127e77"
      },
      "outputs": [
        {
          "name": "stdout",
          "output_type": "stream",
          "text": [
            "4\n",
            "[[0.72972775]\n",
            " [0.52753871]\n",
            " [0.34228834]\n",
            " [0.08769895]]\n"
          ]
        }
      ],
      "source": [
        "alpha = 0.1\n",
        "thetas = logistic_sigmoid_regression(X.T, y, alpha)"
      ]
    },
    {
      "cell_type": "code",
      "execution_count": 6,
      "metadata": {
        "colab": {
          "base_uri": "https://localhost:8080/"
        },
        "id": "84ocOpHWQBO1",
        "outputId": "585618f7-31e7-4519-b0b0-2778b9d808c1"
      },
      "outputs": [
        {
          "name": "stdout",
          "output_type": "stream",
          "text": [
            "(4, 1)\n",
            "[[-1.25896798]\n",
            " [-2.19263232]\n",
            " [ 3.43582151]\n",
            " [ 1.72973046]]\n",
            "[[-0.31702902]\n",
            " [-0.15559327]\n",
            " [ 0.04909568]\n",
            " [ 0.04441886]]\n"
          ]
        }
      ],
      "source": [
        "theta = thetas[-1]\n",
        "print(theta.shape)\n",
        "print(theta)\n",
        "print(thetas[4])"
      ]
    },
    {
      "cell_type": "markdown",
      "metadata": {
        "id": "pKa0SrRWVgTV"
      },
      "source": [
        "##Predict"
      ]
    },
    {
      "cell_type": "code",
      "execution_count": 7,
      "metadata": {
        "id": "5ndm5W8cViq3"
      },
      "outputs": [],
      "source": [
        "def predict(theta, x_test):\n",
        "  return sigmoid(np.dot(theta.T, x_test))"
      ]
    },
    {
      "cell_type": "code",
      "execution_count": 8,
      "metadata": {
        "colab": {
          "base_uri": "https://localhost:8080/"
        },
        "id": "qBIjkgRjWNd4",
        "outputId": "52913ff4-d0e6-4940-832c-19b124859c33"
      },
      "outputs": [
        {
          "name": "stdout",
          "output_type": "stream",
          "text": [
            "[0.00013117]\n",
            "[0.99975763]\n"
          ]
        }
      ],
      "source": [
        "print(predict(theta, [5.1,3.5,1.4,0.2]))\n",
        "print(predict(theta, [7.2, 3.6, 6.1, 2.5]))"
      ]
    }
  ],
  "metadata": {
    "colab": {
      "collapsed_sections": [],
      "name": "logistic_regression.ipynb",
      "provenance": []
    },
    "kernelspec": {
      "display_name": "Python 3",
      "name": "python3"
    },
    "language_info": {
      "codemirror_mode": {
        "name": "ipython",
        "version": 3
      },
      "file_extension": ".py",
      "mimetype": "text/x-python",
      "name": "python",
      "nbconvert_exporter": "python",
      "pygments_lexer": "ipython3",
      "version": "3.9.7"
    }
  },
  "nbformat": 4,
  "nbformat_minor": 0
}
